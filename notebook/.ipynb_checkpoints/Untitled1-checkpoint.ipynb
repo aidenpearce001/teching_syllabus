{
 "cells": [
  {
   "cell_type": "code",
   "execution_count": 4,
   "metadata": {},
   "outputs": [
    {
     "name": "stdout",
     "output_type": "stream",
     "text": [
      "Write your number: 1\n",
      "Your number 1 appears 3 time(s)\n"
     ]
    }
   ],
   "source": [
    "numbers = [1, 2, 1, 1, 4, 5, 6, 3, 4, 3]\n",
    "number_input = int(input('Write your number: '))\n",
    "number_count = 0\n",
    "for i in numbers:\n",
    "    if number_input == numbers[i]:\n",
    "        number_count +=1\n",
    "    else:\n",
    "        pass\n",
    "print('Your number', number_input, 'appears', number_count, 'time(s)')"
   ]
  },
  {
   "cell_type": "code",
   "execution_count": 13,
   "metadata": {},
   "outputs": [
    {
     "name": "stdout",
     "output_type": "stream",
     "text": [
      "2\n",
      "3\n",
      "5\n",
      "8\n"
     ]
    }
   ],
   "source": [
    "def fibo(n): \n",
    "    if n<0: \n",
    "        print(\"Incorrect input\") \n",
    "    elif n==1: \n",
    "        return 0\n",
    "    elif n==2: \n",
    "        return 1\n",
    "    else: \n",
    "        return fibo(n-1)+fibo(n-2)\n",
    "    \n",
    "for i in range(4,8):\n",
    "    print(fibo(i)) "
   ]
  },
  {
   "cell_type": "code",
   "execution_count": 14,
   "metadata": {},
   "outputs": [
    {
     "name": "stdout",
     "output_type": "stream",
     "text": [
      "How many months? 4\n",
      "8\n"
     ]
    }
   ],
   "source": [
    "n_month = int(input('How many months? '))\n",
    "n0 = 1\n",
    "n1 = 2\n",
    "count = 0\n",
    "while count < (n_month-1):\n",
    "    n_th = n1 + n0\n",
    "    print(n_th)\n",
    "    n0 = n1 \n",
    "    print(n0)\n",
    "    n1 = n_th\n",
    "    print(n1)\n",
    "    count += 1\n",
    "\n",
    "print (n_th)"
   ]
  },
  {
   "cell_type": "code",
   "execution_count": null,
   "metadata": {},
   "outputs": [],
   "source": []
  }
 ],
 "metadata": {
  "kernelspec": {
   "display_name": "Python 3",
   "language": "python",
   "name": "python3"
  },
  "language_info": {
   "codemirror_mode": {
    "name": "ipython",
    "version": 3
   },
   "file_extension": ".py",
   "mimetype": "text/x-python",
   "name": "python",
   "nbconvert_exporter": "python",
   "pygments_lexer": "ipython3",
   "version": "3.7.3"
  }
 },
 "nbformat": 4,
 "nbformat_minor": 2
}
