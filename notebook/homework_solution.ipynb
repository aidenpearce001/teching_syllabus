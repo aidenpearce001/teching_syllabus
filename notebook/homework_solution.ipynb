{
 "cells": [
  {
   "cell_type": "code",
   "execution_count": 3,
   "metadata": {},
   "outputs": [],
   "source": [
    "posts = [{\n",
    "            \"username\" : \"GoodGuyGreg\",\n",
    "            \"title\" : \"Passes out at party\",\n",
    "            \"body\" : \"Wakes up early and cleans house\"},\n",
    "        {\n",
    "            \"username\" : \"GoodGuyGreg\",\n",
    "            \"title\" : \"Steals your identity\",\n",
    "            \"body\" : \"Raises your credit score\"\n",
    "        },\n",
    "        {\n",
    "            \"username\" : \"GoodGuyGreg\",\n",
    "            \"title\" : \"Reports a bug in your code\",\n",
    "            \"body\" : \"Sends you a Pull Request\"\n",
    "        },\n",
    "        {\n",
    "            \"username\" : \"ScumbagSteve\",\n",
    "            \"title\" :\"Borrows something\",\n",
    "            \"body\" : \"Sells it\"\n",
    "        },\n",
    "        {\n",
    "            \"username\" : \"ScumbagSteve\",\n",
    "            \"title\" : \"Borrows everything\",\n",
    "            \"body\" : \"The end\"\n",
    "        },\n",
    "        {\n",
    "            \"username\" : \"ScumbagSteve\",\n",
    "            \"title\" : \"Forks your repo on github\",\n",
    "            \"body\" : \"Sets to private\"\n",
    "        }]"
   ]
  },
  {
   "cell_type": "code",
   "execution_count": 4,
   "metadata": {},
   "outputs": [
    {
     "data": {
      "text/plain": [
       "[{'username': 'GoodGuyGreg',\n",
       "  'title': 'Passes out at party',\n",
       "  'body': 'Wakes up early and cleans house'},\n",
       " {'username': 'GoodGuyGreg',\n",
       "  'title': 'Steals your identity',\n",
       "  'body': 'Raises your credit score'},\n",
       " {'username': 'GoodGuyGreg',\n",
       "  'title': 'Reports a bug in your code',\n",
       "  'body': 'Sends you a Pull Request'},\n",
       " {'username': 'ScumbagSteve',\n",
       "  'title': 'Borrows something',\n",
       "  'body': 'Sells it'},\n",
       " {'username': 'ScumbagSteve',\n",
       "  'title': 'Borrows everything',\n",
       "  'body': 'The end'},\n",
       " {'username': 'ScumbagSteve',\n",
       "  'title': 'Forks your repo on github',\n",
       "  'body': 'Sets to private'}]"
      ]
     },
     "execution_count": 4,
     "metadata": {},
     "output_type": "execute_result"
    }
   ],
   "source": [
    "posts"
   ]
  },
  {
   "cell_type": "code",
   "execution_count": 5,
   "metadata": {},
   "outputs": [],
   "source": [
    "comments = [\n",
    "    {\n",
    "        \"username\" : \"GoodGuyGreg\",\n",
    "        \"comment\" : \"Hope you got a good deal!\",\n",
    "        \"post\" : \"[post_obj_id]\"\n",
    "    },\n",
    " # where [post_obj_id] is the ObjectId of the posts document: \"Borrows something\"\n",
    "    {\n",
    "        \"username\" : \"GoodGuyGreg\",\n",
    "        \"comment\" : \"What's mine is yours!\",\n",
    "        \"post\" : \"[post_obj_id]\"\n",
    "    },\n",
    "# where [post_obj_id] is the ObjectId of the posts document: \"Borrows everything\"\n",
    "\n",
    "    {\n",
    "        \"username\" : \"GoodGuyGreg\",\n",
    "        \"comment\" : \"Don't violate the licensing agreement!\",\n",
    "        \"post\" : \"[post_obj_id]\"},\n",
    "# where [post_obj_id] is the ObjectId of the posts document: \"Forks your repo on github\n",
    "\n",
    "    {\n",
    "        \"username\" : \"ScumbagSteve\",\n",
    "        \"comment\" : \"It still isn't clean\",\n",
    "        \"post\" : \"[post_obj_id]\"\n",
    "    },\n",
    "# where [post_obj_id] is the ObjectId of the posts document: \"Passes out at party\"\n",
    "\n",
    "    {\n",
    "        \"username\" : \"ScumbagSteve\",\n",
    "        \"comment\" : \"Denied your PR cause I found a hack\",\n",
    "        \"post\" : \"[post_obj_id]\"\n",
    "    }]\n",
    "#where [post_obj_id] is the ObjectId of the posts document: \"Reports a bug in your code\""
   ]
  },
  {
   "cell_type": "code",
   "execution_count": 6,
   "metadata": {},
   "outputs": [
    {
     "data": {
      "text/plain": [
       "[{'username': 'GoodGuyGreg',\n",
       "  'comment': 'Hope you got a good deal!',\n",
       "  'post': '[post_obj_id]'},\n",
       " {'username': 'GoodGuyGreg',\n",
       "  'comment': \"What's mine is yours!\",\n",
       "  'post': '[post_obj_id]'},\n",
       " {'username': 'GoodGuyGreg',\n",
       "  'comment': \"Don't violate the licensing agreement!\",\n",
       "  'post': '[post_obj_id]'},\n",
       " {'username': 'ScumbagSteve',\n",
       "  'comment': \"It still isn't clean\",\n",
       "  'post': '[post_obj_id]'},\n",
       " {'username': 'ScumbagSteve',\n",
       "  'comment': 'Denied your PR cause I found a hack',\n",
       "  'post': '[post_obj_id]'}]"
      ]
     },
     "execution_count": 6,
     "metadata": {},
     "output_type": "execute_result"
    }
   ],
   "source": [
    "comments"
   ]
  },
  {
   "cell_type": "code",
   "execution_count": 7,
   "metadata": {},
   "outputs": [
    {
     "data": {
      "text/plain": [
       "['admin', 'config', 'database', 'local', 'test_database']"
      ]
     },
     "execution_count": 7,
     "metadata": {},
     "output_type": "execute_result"
    }
   ],
   "source": [
    "import pymongo \n",
    "mongo_url = \"mongodb://localhost:27017/\"  \n",
    "client = pymongo.MongoClient(mongo_url)\n",
    "client.list_database_names()"
   ]
  },
  {
   "cell_type": "code",
   "execution_count": 25,
   "metadata": {},
   "outputs": [
    {
     "name": "stdout",
     "output_type": "stream",
     "text": [
      "{'_id': ObjectId('5ed3d4313baa992b74433238'), 'username': 'GoodGuyGreg', 'title': 'Passes out at party', 'body': 'Wakes up early and cleans house'}\n",
      "{'_id': ObjectId('5ed3d4313baa992b74433239'), 'username': 'GoodGuyGreg', 'title': 'Steals your identity', 'body': 'Raises your credit score'}\n",
      "{'_id': ObjectId('5ed3d4313baa992b7443323a'), 'username': 'GoodGuyGreg', 'title': 'Reports a bug in your code', 'body': 'Sends you a Pull Request'}\n",
      "{'_id': ObjectId('5ed3d4313baa992b7443323b'), 'username': 'ScumbagSteve', 'title': 'Borrows something', 'body': 'Sells it'}\n",
      "{'_id': ObjectId('5ed3d4313baa992b7443323c'), 'username': 'ScumbagSteve', 'title': 'Borrows everything', 'body': 'The end'}\n",
      "{'_id': ObjectId('5ed3d4313baa992b7443323d'), 'username': 'ScumbagSteve', 'title': 'Forks your repo on github', 'body': 'Sets to private'}\n"
     ]
    }
   ],
   "source": [
    "for _ in posts_collection.find():\n",
    "  print(_)"
   ]
  },
  {
   "cell_type": "code",
   "execution_count": 29,
   "metadata": {},
   "outputs": [],
   "source": [
    "database = client[ \"database\" ]\n",
    "comments_collection = database[ \"comments\" ]"
   ]
  },
  {
   "cell_type": "code",
   "execution_count": 26,
   "metadata": {},
   "outputs": [
    {
     "data": {
      "text/plain": [
       "[{'_id': ObjectId('5ed3d4313baa992b74433238'),\n",
       "  'username': 'GoodGuyGreg',\n",
       "  'title': 'Passes out at party',\n",
       "  'body': 'Wakes up early and cleans house'},\n",
       " {'_id': ObjectId('5ed3d4313baa992b74433239'),\n",
       "  'username': 'GoodGuyGreg',\n",
       "  'title': 'Steals your identity',\n",
       "  'body': 'Raises your credit score'},\n",
       " {'_id': ObjectId('5ed3d4313baa992b7443323a'),\n",
       "  'username': 'GoodGuyGreg',\n",
       "  'title': 'Reports a bug in your code',\n",
       "  'body': 'Sends you a Pull Request'},\n",
       " {'_id': ObjectId('5ed3d4313baa992b7443323b'),\n",
       "  'username': 'ScumbagSteve',\n",
       "  'title': 'Borrows something',\n",
       "  'body': 'Sells it'},\n",
       " {'_id': ObjectId('5ed3d4313baa992b7443323c'),\n",
       "  'username': 'ScumbagSteve',\n",
       "  'title': 'Borrows everything',\n",
       "  'body': 'The end'},\n",
       " {'_id': ObjectId('5ed3d4313baa992b7443323d'),\n",
       "  'username': 'ScumbagSteve',\n",
       "  'title': 'Forks your repo on github',\n",
       "  'body': 'Sets to private'}]"
      ]
     },
     "execution_count": 26,
     "metadata": {},
     "output_type": "execute_result"
    }
   ],
   "source": [
    "ls = []\n",
    "for i in posts_collection.find():\n",
    "  ls.append(i)\n",
    "ls"
   ]
  },
  {
   "cell_type": "code",
   "execution_count": 28,
   "metadata": {},
   "outputs": [
    {
     "name": "stdout",
     "output_type": "stream",
     "text": [
      "[{'_id': ObjectId('5ed3d4313baa992b74433238'), 'username': 'GoodGuyGreg', 'title': 'Passes out at party', 'body': 'Wakes up early and cleans house'}, {'_id': ObjectId('5ed3d4313baa992b74433239'), 'username': 'GoodGuyGreg', 'title': 'Steals your identity', 'body': 'Raises your credit score'}, {'_id': ObjectId('5ed3d4313baa992b7443323a'), 'username': 'GoodGuyGreg', 'title': 'Reports a bug in your code', 'body': 'Sends you a Pull Request'}, {'_id': ObjectId('5ed3d4313baa992b7443323b'), 'username': 'ScumbagSteve', 'title': 'Borrows something', 'body': 'Sells it'}, {'_id': ObjectId('5ed3d4313baa992b7443323c'), 'username': 'ScumbagSteve', 'title': 'Borrows everything', 'body': 'The end'}, {'_id': ObjectId('5ed3d4313baa992b7443323d'), 'username': 'ScumbagSteve', 'title': 'Forks your repo on github', 'body': 'Sets to private'}]\n"
     ]
    },
    {
     "data": {
      "text/plain": [
       "[{'username': 'GoodGuyGreg',\n",
       "  'comment': 'Hope you got a good deal!',\n",
       "  'post': ObjectId('5ed3d4313baa992b7443323b')},\n",
       " {'username': 'GoodGuyGreg',\n",
       "  'comment': \"What's mine is yours!\",\n",
       "  'post': ObjectId('5ed3d4313baa992b7443323b')},\n",
       " {'username': 'GoodGuyGreg',\n",
       "  'comment': \"Don't violate the licensing agreement!\",\n",
       "  'post': ObjectId('5ed3d4313baa992b7443323d')},\n",
       " {'username': 'ScumbagSteve',\n",
       "  'comment': \"It still isn't clean\",\n",
       "  'post': ObjectId('5ed3d4313baa992b74433238')},\n",
       " {'username': 'ScumbagSteve',\n",
       "  'comment': 'Denied your PR cause I found a hack',\n",
       "  'post': ObjectId('5ed3d4313baa992b7443323a')}]"
      ]
     },
     "execution_count": 28,
     "metadata": {},
     "output_type": "execute_result"
    }
   ],
   "source": [
    "queue = [\"Borrows something\",\"Borrows something\",\"Forks your repo on github\",\"Passes out at party\",\"Reports a bug in your code\"]\n",
    "id_ = []\n",
    "for c,value in enumerate(queue):\n",
    "    for x in ls:\n",
    "        if x['title'] == queue[c]:\n",
    "            id_.append(x['_id'])\n",
    "# id_\n",
    "print(ls)\n",
    "for i,v in enumerate(comments):\n",
    "    for key, value in v.items():\n",
    "        v['post'] = id_[i]\n",
    "        \n",
    "comments\n"
   ]
  },
  {
   "cell_type": "code",
   "execution_count": 22,
   "metadata": {},
   "outputs": [
    {
     "data": {
      "text/plain": [
       "<pymongo.results.DeleteResult at 0x262ac4ec208>"
      ]
     },
     "execution_count": 22,
     "metadata": {},
     "output_type": "execute_result"
    }
   ],
   "source": [
    "posts_collection.delete_many({})"
   ]
  },
  {
   "cell_type": "code",
   "execution_count": 30,
   "metadata": {},
   "outputs": [],
   "source": [
    "com = comments_collection.insert_many(comments)"
   ]
  },
  {
   "cell_type": "code",
   "execution_count": 49,
   "metadata": {},
   "outputs": [
    {
     "name": "stdout",
     "output_type": "stream",
     "text": [
      "{'username': 'GoodGuyGreg'}\n",
      "{'username': 'GoodGuyGreg'}\n",
      "{'username': 'GoodGuyGreg'}\n",
      "{'username': 'ScumbagSteve'}\n",
      "{'username': 'ScumbagSteve'}\n",
      "{'post': ObjectId('5ed3d4313baa992b7443323b')}\n",
      "{'post': ObjectId('5ed3d4313baa992b7443323b')}\n",
      "{'post': ObjectId('5ed3d4313baa992b7443323d')}\n",
      "{'post': ObjectId('5ed3d4313baa992b74433238')}\n",
      "{'post': ObjectId('5ed3d4313baa992b7443323a')}\n",
      "{'_id': ObjectId('5ed3d5863baa992b7443323e'), 'username': 'GoodGuyGreg', 'comment': 'Hope you got a good deal!', 'post': ObjectId('5ed3d4313baa992b7443323b')}\n",
      "{'_id': ObjectId('5ed3d5863baa992b7443323f'), 'username': 'GoodGuyGreg', 'comment': \"What's mine is yours!\", 'post': ObjectId('5ed3d4313baa992b7443323b')}\n",
      "{'_id': ObjectId('5ed3d5863baa992b74433240'), 'username': 'GoodGuyGreg', 'comment': \"Don't violate the licensing agreement!\", 'post': ObjectId('5ed3d4313baa992b7443323d')}\n"
     ]
    }
   ],
   "source": [
    "for _ in comments_collection.find({}, { \"_id\": 0,\"username\":1}):\n",
    "    print(_)\n",
    "for _ in comments_collection.find({}, { \"_id\": 0,\"post\":1}): \n",
    "    print(_)\n",
    "for _ in comments_collection.find({\"username\" :\"GoodGuyGreg\"}):\n",
    "    print(_)"
   ]
  },
  {
   "cell_type": "code",
   "execution_count": null,
   "metadata": {},
   "outputs": [],
   "source": []
  }
 ],
 "metadata": {
  "kernelspec": {
   "display_name": "Python 3",
   "language": "python",
   "name": "python3"
  },
  "language_info": {
   "codemirror_mode": {
    "name": "ipython",
    "version": 3
   },
   "file_extension": ".py",
   "mimetype": "text/x-python",
   "name": "python",
   "nbconvert_exporter": "python",
   "pygments_lexer": "ipython3",
   "version": "3.7.3"
  }
 },
 "nbformat": 4,
 "nbformat_minor": 2
}
